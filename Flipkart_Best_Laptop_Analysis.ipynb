{
 "cells": [
  {
   "cell_type": "markdown",
   "id": "4ba253a7",
   "metadata": {},
   "source": [
    "# Flipkart best Laptops"
   ]
  },
  {
   "cell_type": "markdown",
   "id": "0dc26f92",
   "metadata": {},
   "source": [
    "#### Importing important libraries"
   ]
  },
  {
   "cell_type": "code",
   "execution_count": 1,
   "id": "5eeb4fbd",
   "metadata": {},
   "outputs": [],
   "source": [
    "from bs4 import BeautifulSoup as Soup\n",
    "from matplotlib import pyplot as plt\n",
    "import pandas as pd\n",
    "import requests\n",
    "import re"
   ]
  },
  {
   "cell_type": "markdown",
   "id": "7e05f407",
   "metadata": {},
   "source": [
    "#### Define The URL of the Website you want to Scrape"
   ]
  },
  {
   "cell_type": "code",
   "execution_count": 2,
   "id": "efce074e",
   "metadata": {},
   "outputs": [
    {
     "name": "stdout",
     "output_type": "stream",
     "text": [
      "https://www.flipkart.com/search?q=laptops&otracker=search&otracker1=search&marketplace=FLIPKART&as-show=on&as=off\n"
     ]
    }
   ],
   "source": [
    "url = \"https://www.flipkart.com/search?q=laptops&otracker=search&otracker1=search&marketplace=FLIPKART&as-show=on&as=off\"\n",
    "print(url)"
   ]
  },
  {
   "cell_type": "markdown",
   "id": "c4108499",
   "metadata": {},
   "source": [
    "#### Send The Get request to the Website"
   ]
  },
  {
   "cell_type": "code",
   "execution_count": 3,
   "id": "274384d3",
   "metadata": {},
   "outputs": [
    {
     "name": "stdout",
     "output_type": "stream",
     "text": [
      "<Response [200]>\n"
     ]
    }
   ],
   "source": [
    "result = requests.get(url)\n",
    "print(result)"
   ]
  },
  {
   "cell_type": "markdown",
   "id": "dd023422",
   "metadata": {},
   "source": [
    "#### Parse the HTML content of the Website"
   ]
  },
  {
   "cell_type": "code",
   "execution_count": 4,
   "id": "4ebd0daf",
   "metadata": {},
   "outputs": [],
   "source": [
    "# Use Beautiful Soup to parse and extract information\n",
    "content = result.text\n",
    "soup1 = Soup(content, 'html.parser')"
   ]
  },
  {
   "cell_type": "markdown",
   "id": "95910d64",
   "metadata": {},
   "source": [
    "#### Find all the webpage and add the content."
   ]
  },
  {
   "cell_type": "code",
   "execution_count": 5,
   "id": "d36dd7c9",
   "metadata": {
    "scrolled": true
   },
   "outputs": [],
   "source": [
    "pages_link = soup1.find_all('a',class_='ge-49M')\n",
    "domain = \"https://www.flipkart.com/search?q=laptops&otracker=search&otracker1=search&marketplace=FLIPKART&as-show=on&as=off&page=\"\n",
    "\n",
    "for i in range(2,41):\n",
    "    link = domain+str(i)\n",
    "    page_data = requests.get(link)\n",
    "    content1 = page_data.text\n",
    "    content += content1\n",
    "    "
   ]
  },
  {
   "cell_type": "code",
   "execution_count": 6,
   "id": "92be4c93",
   "metadata": {},
   "outputs": [
    {
     "data": {
      "text/plain": [
       "bs4.BeautifulSoup"
      ]
     },
     "execution_count": 6,
     "metadata": {},
     "output_type": "execute_result"
    }
   ],
   "source": [
    "# Parse the HTML content of all webpages\n",
    "soupdata = Soup(content, 'html.parser')\n",
    "type(soupdata)"
   ]
  },
  {
   "cell_type": "code",
   "execution_count": 7,
   "id": "e62e9b88",
   "metadata": {},
   "outputs": [
    {
     "name": "stdout",
     "output_type": "stream",
     "text": [
      "<class 'bs4.element.ResultSet'> 960\n"
     ]
    }
   ],
   "source": [
    "# Getting all laptops details and storing it in containers\n",
    "containers = soupdata.find_all('div', class_='_2kHMtA')\n",
    "print(type(containers), len(containers))"
   ]
  },
  {
   "cell_type": "code",
   "execution_count": 8,
   "id": "247faee8",
   "metadata": {
    "scrolled": true
   },
   "outputs": [],
   "source": [
    "# Create CSV file(s) with the extracted information\n",
    "\n",
    "f = open('laptops_info.csv','wb')\n",
    "f.write('ProductName,Stars,Ratings,Reviews,CurrentPrice,MRP,Processor,Ram,Storage\\n'.encode())\n",
    "\n",
    "\n",
    "# Loop through each product\n",
    "\n",
    "for container in containers:\n",
    "    #Finding Product Name\n",
    "    product = container.find('div', class_='_4rR01T')\n",
    "    ProductName= product.text.split('-')[0].strip()\n",
    "    \n",
    "    # Finding Stars\n",
    "    star = container.find('div', class_='_3LWZlK')\n",
    "    try:\n",
    "        Stars = star.text\n",
    "    except:\n",
    "        Stars = 0\n",
    "    \n",
    "    # Finding Ratings & Reviews\n",
    "    Rating = container.find('span', class_='_2_R_DZ')\n",
    "    try:\n",
    "        ratRev = re.findall('\\d+,?\\d*', Rating.text)\n",
    "        Ratings = ratRev[0].replace(',','')\n",
    "        Reviews = ratRev[1].replace(',','')\n",
    "    except:\n",
    "        Ratings = 0\n",
    "        Reviews = 0\n",
    "    \n",
    "    #Finding Current Price\n",
    "    CurrentPrice = container.find('div', class_='_30jeq3 _1_WHN1').text.replace(',','').replace('₹','')\n",
    "    \n",
    "    #Find MRP\n",
    "    mrp = container.find('div',class_='_3I9_wc _27UcVY')\n",
    "    try:\n",
    "        MRP = mrp.text.replace(',','').replace('₹','')\n",
    "    except:\n",
    "        MRP = 0\n",
    "        \n",
    "    #Finding Information about the product\n",
    "    info = container.findAll('li',class_='rgWa7D')\n",
    "    Processor = info[0].text\n",
    "    Ram = info[1].text\n",
    "    Storage = info[3].text\n",
    "\n",
    "    #print(ProductName, Stars, Ratings, Reviews, CurrentPrice, MRP, Processor, Ram, Storage)\n",
    "    f.write(f\"{ProductName},{Stars},{Ratings},{Reviews},{CurrentPrice},{MRP},{Processor},{Ram},{Storage}\\n\".encode())\n",
    "    #print('\\n')\n",
    "\n",
    "f.close()\n"
   ]
  },
  {
   "cell_type": "code",
   "execution_count": 9,
   "id": "d71d58fd",
   "metadata": {},
   "outputs": [
    {
     "data": {
      "text/html": [
       "<div>\n",
       "<style scoped>\n",
       "    .dataframe tbody tr th:only-of-type {\n",
       "        vertical-align: middle;\n",
       "    }\n",
       "\n",
       "    .dataframe tbody tr th {\n",
       "        vertical-align: top;\n",
       "    }\n",
       "\n",
       "    .dataframe thead th {\n",
       "        text-align: right;\n",
       "    }\n",
       "</style>\n",
       "<table border=\"1\" class=\"dataframe\">\n",
       "  <thead>\n",
       "    <tr style=\"text-align: right;\">\n",
       "      <th></th>\n",
       "      <th>ProductName</th>\n",
       "      <th>Stars</th>\n",
       "      <th>Ratings</th>\n",
       "      <th>Reviews</th>\n",
       "      <th>CurrentPrice</th>\n",
       "      <th>MRP</th>\n",
       "      <th>Processor</th>\n",
       "      <th>Ram</th>\n",
       "      <th>Storage</th>\n",
       "    </tr>\n",
       "  </thead>\n",
       "  <tbody>\n",
       "    <tr>\n",
       "      <th>0</th>\n",
       "      <td>Lenovo IdeaPad 3 Core i3 11th Gen</td>\n",
       "      <td>4.2</td>\n",
       "      <td>159</td>\n",
       "      <td>15</td>\n",
       "      <td>34490</td>\n",
       "      <td>48490</td>\n",
       "      <td>Intel Core i3 Processor (11th Gen)</td>\n",
       "      <td>8 GB DDR4 RAM</td>\n",
       "      <td>256 GB SSD</td>\n",
       "    </tr>\n",
       "    <tr>\n",
       "      <th>1</th>\n",
       "      <td>Lenovo IdeaPad 3 Core i3 11th Gen</td>\n",
       "      <td>4.2</td>\n",
       "      <td>4231</td>\n",
       "      <td>409</td>\n",
       "      <td>38700</td>\n",
       "      <td>59390</td>\n",
       "      <td>Intel Core i3 Processor (11th Gen)</td>\n",
       "      <td>8 GB DDR4 RAM</td>\n",
       "      <td>512 GB SSD</td>\n",
       "    </tr>\n",
       "    <tr>\n",
       "      <th>2</th>\n",
       "      <td>ASUS VivoBook 15 (2022) Core i3 10th Gen</td>\n",
       "      <td>4.3</td>\n",
       "      <td>9459</td>\n",
       "      <td>946</td>\n",
       "      <td>33990</td>\n",
       "      <td>45990</td>\n",
       "      <td>Intel Core i3 Processor (10th Gen)</td>\n",
       "      <td>8 GB DDR4 RAM</td>\n",
       "      <td>512 GB SSD</td>\n",
       "    </tr>\n",
       "    <tr>\n",
       "      <th>3</th>\n",
       "      <td>acer Aspire 3 Ryzen 3 Dual Core 3250U</td>\n",
       "      <td>4.2</td>\n",
       "      <td>183</td>\n",
       "      <td>46</td>\n",
       "      <td>26990</td>\n",
       "      <td>42999</td>\n",
       "      <td>AMD Ryzen 3 Dual Core Processor</td>\n",
       "      <td>8 GB DDR4 RAM</td>\n",
       "      <td>256 GB SSD</td>\n",
       "    </tr>\n",
       "    <tr>\n",
       "      <th>4</th>\n",
       "      <td>HP Celeron Dual Core</td>\n",
       "      <td>4.4</td>\n",
       "      <td>7</td>\n",
       "      <td>1</td>\n",
       "      <td>25990</td>\n",
       "      <td>36965</td>\n",
       "      <td>Intel Celeron Dual Core Processor</td>\n",
       "      <td>8 GB DDR4 RAM</td>\n",
       "      <td>256 GB SSD</td>\n",
       "    </tr>\n",
       "    <tr>\n",
       "      <th>...</th>\n",
       "      <td>...</td>\n",
       "      <td>...</td>\n",
       "      <td>...</td>\n",
       "      <td>...</td>\n",
       "      <td>...</td>\n",
       "      <td>...</td>\n",
       "      <td>...</td>\n",
       "      <td>...</td>\n",
       "      <td>...</td>\n",
       "    </tr>\n",
       "    <tr>\n",
       "      <th>922</th>\n",
       "      <td>ASUS Chromebook Celeron Dual Core</td>\n",
       "      <td>3.6</td>\n",
       "      <td>378</td>\n",
       "      <td>50</td>\n",
       "      <td>19990</td>\n",
       "      <td>22990</td>\n",
       "      <td>Intel Celeron Dual Core Processor</td>\n",
       "      <td>4 GB LPDDR4 RAM</td>\n",
       "      <td>29.46 cm (11.6 Inch) Display</td>\n",
       "    </tr>\n",
       "    <tr>\n",
       "      <th>923</th>\n",
       "      <td>Lenovo Core i7 11th Gen</td>\n",
       "      <td>0.0</td>\n",
       "      <td>0</td>\n",
       "      <td>0</td>\n",
       "      <td>92500</td>\n",
       "      <td>115900</td>\n",
       "      <td>Intel Core i7 Processor (11th Gen)</td>\n",
       "      <td>16 GB DDR4 RAM</td>\n",
       "      <td>512 GB SSD</td>\n",
       "    </tr>\n",
       "    <tr>\n",
       "      <th>924</th>\n",
       "      <td>ASUS ASUS TUF Gaming A15 Ryzen 7 Octa Core 6800HS</td>\n",
       "      <td>0.0</td>\n",
       "      <td>0</td>\n",
       "      <td>0</td>\n",
       "      <td>175990</td>\n",
       "      <td>0</td>\n",
       "      <td>AMD Ryzen 7 Octa Core Processor</td>\n",
       "      <td>16 GB DDR4 RAM</td>\n",
       "      <td>1 TB SSD</td>\n",
       "    </tr>\n",
       "    <tr>\n",
       "      <th>925</th>\n",
       "      <td>HP Intel Core i5 10th Gen</td>\n",
       "      <td>5.0</td>\n",
       "      <td>2</td>\n",
       "      <td>1</td>\n",
       "      <td>127000</td>\n",
       "      <td>152042</td>\n",
       "      <td>Intel Core i5 Processor (10th Gen)</td>\n",
       "      <td>8 GB DDR4 RAM</td>\n",
       "      <td>512 GB SSD</td>\n",
       "    </tr>\n",
       "    <tr>\n",
       "      <th>926</th>\n",
       "      <td>Lenovo IdeaPad Core i3 10th Gen</td>\n",
       "      <td>4.2</td>\n",
       "      <td>64</td>\n",
       "      <td>8</td>\n",
       "      <td>37890</td>\n",
       "      <td>50990</td>\n",
       "      <td>Intel Core i3 Processor (10th Gen)</td>\n",
       "      <td>4 GB DDR4 RAM</td>\n",
       "      <td>256 GB SSD</td>\n",
       "    </tr>\n",
       "  </tbody>\n",
       "</table>\n",
       "<p>927 rows × 9 columns</p>\n",
       "</div>"
      ],
      "text/plain": [
       "                                           ProductName  Stars  Ratings  \\\n",
       "0                    Lenovo IdeaPad 3 Core i3 11th Gen    4.2      159   \n",
       "1                    Lenovo IdeaPad 3 Core i3 11th Gen    4.2     4231   \n",
       "2             ASUS VivoBook 15 (2022) Core i3 10th Gen    4.3     9459   \n",
       "3                acer Aspire 3 Ryzen 3 Dual Core 3250U    4.2      183   \n",
       "4                                 HP Celeron Dual Core    4.4        7   \n",
       "..                                                 ...    ...      ...   \n",
       "922                  ASUS Chromebook Celeron Dual Core    3.6      378   \n",
       "923                            Lenovo Core i7 11th Gen    0.0        0   \n",
       "924  ASUS ASUS TUF Gaming A15 Ryzen 7 Octa Core 6800HS    0.0        0   \n",
       "925                          HP Intel Core i5 10th Gen    5.0        2   \n",
       "926                    Lenovo IdeaPad Core i3 10th Gen    4.2       64   \n",
       "\n",
       "     Reviews  CurrentPrice     MRP                           Processor  \\\n",
       "0         15         34490   48490  Intel Core i3 Processor (11th Gen)   \n",
       "1        409         38700   59390  Intel Core i3 Processor (11th Gen)   \n",
       "2        946         33990   45990  Intel Core i3 Processor (10th Gen)   \n",
       "3         46         26990   42999     AMD Ryzen 3 Dual Core Processor   \n",
       "4          1         25990   36965   Intel Celeron Dual Core Processor   \n",
       "..       ...           ...     ...                                 ...   \n",
       "922       50         19990   22990   Intel Celeron Dual Core Processor   \n",
       "923        0         92500  115900  Intel Core i7 Processor (11th Gen)   \n",
       "924        0        175990       0     AMD Ryzen 7 Octa Core Processor   \n",
       "925        1        127000  152042  Intel Core i5 Processor (10th Gen)   \n",
       "926        8         37890   50990  Intel Core i3 Processor (10th Gen)   \n",
       "\n",
       "                 Ram                       Storage  \n",
       "0      8 GB DDR4 RAM                    256 GB SSD  \n",
       "1      8 GB DDR4 RAM                    512 GB SSD  \n",
       "2      8 GB DDR4 RAM                    512 GB SSD  \n",
       "3      8 GB DDR4 RAM                    256 GB SSD  \n",
       "4      8 GB DDR4 RAM                    256 GB SSD  \n",
       "..               ...                           ...  \n",
       "922  4 GB LPDDR4 RAM  29.46 cm (11.6 Inch) Display  \n",
       "923   16 GB DDR4 RAM                    512 GB SSD  \n",
       "924   16 GB DDR4 RAM                      1 TB SSD  \n",
       "925    8 GB DDR4 RAM                    512 GB SSD  \n",
       "926    4 GB DDR4 RAM                    256 GB SSD  \n",
       "\n",
       "[927 rows x 9 columns]"
      ]
     },
     "execution_count": 9,
     "metadata": {},
     "output_type": "execute_result"
    }
   ],
   "source": [
    "# Verify the information in the CSV files by reading them back using Pandas.\n",
    "data = pd.read_csv(\"laptops_info.csv\",on_bad_lines='skip')\n",
    "data"
   ]
  },
  {
   "cell_type": "code",
   "execution_count": 10,
   "id": "1374102d",
   "metadata": {},
   "outputs": [
    {
     "data": {
      "text/plain": [
       "(927, 9)"
      ]
     },
     "execution_count": 10,
     "metadata": {},
     "output_type": "execute_result"
    }
   ],
   "source": [
    "# Shape of data\n",
    "data.shape"
   ]
  },
  {
   "cell_type": "code",
   "execution_count": 11,
   "id": "d4156e5f",
   "metadata": {},
   "outputs": [
    {
     "name": "stdout",
     "output_type": "stream",
     "text": [
      "<class 'pandas.core.frame.DataFrame'>\n",
      "RangeIndex: 927 entries, 0 to 926\n",
      "Data columns (total 9 columns):\n",
      " #   Column        Non-Null Count  Dtype  \n",
      "---  ------        --------------  -----  \n",
      " 0   ProductName   927 non-null    object \n",
      " 1   Stars         927 non-null    float64\n",
      " 2   Ratings       927 non-null    int64  \n",
      " 3   Reviews       927 non-null    int64  \n",
      " 4   CurrentPrice  927 non-null    int64  \n",
      " 5   MRP           927 non-null    int64  \n",
      " 6   Processor     927 non-null    object \n",
      " 7   Ram           927 non-null    object \n",
      " 8   Storage       927 non-null    object \n",
      "dtypes: float64(1), int64(4), object(4)\n",
      "memory usage: 65.3+ KB\n"
     ]
    }
   ],
   "source": [
    "data.info()"
   ]
  },
  {
   "cell_type": "code",
   "execution_count": 12,
   "id": "306a861a",
   "metadata": {},
   "outputs": [
    {
     "data": {
      "text/plain": [
       "(619, 9)"
      ]
     },
     "execution_count": 12,
     "metadata": {},
     "output_type": "execute_result"
    }
   ],
   "source": [
    "# Removing Duplicate data\n",
    "df = data.drop_duplicates(['Stars','Ratings','Reviews','CurrentPrice','MRP'])\n",
    "df.shape"
   ]
  },
  {
   "cell_type": "markdown",
   "id": "2860deff",
   "metadata": {},
   "source": [
    "### Find the Product having highest Reviews"
   ]
  },
  {
   "cell_type": "code",
   "execution_count": 13,
   "id": "1a94c744",
   "metadata": {},
   "outputs": [
    {
     "data": {
      "text/html": [
       "<div>\n",
       "<style scoped>\n",
       "    .dataframe tbody tr th:only-of-type {\n",
       "        vertical-align: middle;\n",
       "    }\n",
       "\n",
       "    .dataframe tbody tr th {\n",
       "        vertical-align: top;\n",
       "    }\n",
       "\n",
       "    .dataframe thead th {\n",
       "        text-align: right;\n",
       "    }\n",
       "</style>\n",
       "<table border=\"1\" class=\"dataframe\">\n",
       "  <thead>\n",
       "    <tr style=\"text-align: right;\">\n",
       "      <th></th>\n",
       "      <th>ProductName</th>\n",
       "      <th>Stars</th>\n",
       "      <th>Ratings</th>\n",
       "      <th>Reviews</th>\n",
       "      <th>CurrentPrice</th>\n",
       "      <th>MRP</th>\n",
       "      <th>Processor</th>\n",
       "      <th>Ram</th>\n",
       "      <th>Storage</th>\n",
       "    </tr>\n",
       "  </thead>\n",
       "  <tbody>\n",
       "    <tr>\n",
       "      <th>553</th>\n",
       "      <td>APPLE MacBook Air Core i5 5th Gen</td>\n",
       "      <td>4.7</td>\n",
       "      <td>30953</td>\n",
       "      <td>3303</td>\n",
       "      <td>74490</td>\n",
       "      <td>84900</td>\n",
       "      <td>Intel Core i5 Processor (5th Gen)</td>\n",
       "      <td>8 GB DDR3 RAM</td>\n",
       "      <td>128 GB SSD</td>\n",
       "    </tr>\n",
       "  </tbody>\n",
       "</table>\n",
       "</div>"
      ],
      "text/plain": [
       "                           ProductName  Stars  Ratings  Reviews  CurrentPrice  \\\n",
       "553  APPLE MacBook Air Core i5 5th Gen    4.7    30953     3303         74490   \n",
       "\n",
       "       MRP                          Processor            Ram     Storage  \n",
       "553  84900  Intel Core i5 Processor (5th Gen)  8 GB DDR3 RAM  128 GB SSD  "
      ]
     },
     "execution_count": 13,
     "metadata": {},
     "output_type": "execute_result"
    }
   ],
   "source": [
    "df[df['Reviews']==max(df['Reviews'])]"
   ]
  },
  {
   "cell_type": "code",
   "execution_count": 14,
   "id": "1d79cfe9",
   "metadata": {},
   "outputs": [],
   "source": [
    "top_5 = data.sort_values(by='Reviews', ascending = False).head()"
   ]
  },
  {
   "cell_type": "code",
   "execution_count": 15,
   "id": "dfbbf739",
   "metadata": {},
   "outputs": [
    {
     "data": {
      "image/png": "[encoded data removed]",
      "text/plain": [
       "<Figure size 1000x700 with 1 Axes>"
      ]
     },
     "metadata": {},
     "output_type": "display_data"
    }
   ],
   "source": [
    "plt.figure(figsize=(10,7))\n",
    "plt.bar(x=top_5['ProductName'], height = top_5['Ratings'])\n",
    "plt.title('Highest Rating Laptops', fontsize=30)\n",
    "plt.xlabel('Laptops Name', fontsize=15)\n",
    "plt.ylabel('Total Ratings', fontsize=15)\n",
    "plt.xticks(rotation = 270)\n",
    "\n",
    "plt.show()"
   ]
  },
  {
   "cell_type": "markdown",
   "id": "d18f8623",
   "metadata": {},
   "source": [
    "### Find the Product Having highest Stars"
   ]
  },
  {
   "cell_type": "code",
   "execution_count": 16,
   "id": "1bf8069c",
   "metadata": {},
   "outputs": [
    {
     "data": {
      "text/html": [
       "<div>\n",
       "<style scoped>\n",
       "    .dataframe tbody tr th:only-of-type {\n",
       "        vertical-align: middle;\n",
       "    }\n",
       "\n",
       "    .dataframe tbody tr th {\n",
       "        vertical-align: top;\n",
       "    }\n",
       "\n",
       "    .dataframe thead th {\n",
       "        text-align: right;\n",
       "    }\n",
       "</style>\n",
       "<table border=\"1\" class=\"dataframe\">\n",
       "  <thead>\n",
       "    <tr style=\"text-align: right;\">\n",
       "      <th></th>\n",
       "      <th>ProductName</th>\n",
       "      <th>Stars</th>\n",
       "      <th>Ratings</th>\n",
       "      <th>Reviews</th>\n",
       "      <th>CurrentPrice</th>\n",
       "      <th>MRP</th>\n",
       "      <th>Processor</th>\n",
       "      <th>Ram</th>\n",
       "      <th>Storage</th>\n",
       "    </tr>\n",
       "  </thead>\n",
       "  <tbody>\n",
       "    <tr>\n",
       "      <th>575</th>\n",
       "      <td>DELL Core i5 12th Gen</td>\n",
       "      <td>5.0</td>\n",
       "      <td>4</td>\n",
       "      <td>0</td>\n",
       "      <td>79890</td>\n",
       "      <td>99498</td>\n",
       "      <td>Intel Core i5 Processor (12th Gen)</td>\n",
       "      <td>16 GB DDR5 RAM</td>\n",
       "      <td>512 GB SSD</td>\n",
       "    </tr>\n",
       "    <tr>\n",
       "      <th>283</th>\n",
       "      <td>acer Predator Helios 300 Core i7 12th Gen</td>\n",
       "      <td>5.0</td>\n",
       "      <td>4</td>\n",
       "      <td>0</td>\n",
       "      <td>156490</td>\n",
       "      <td>179999</td>\n",
       "      <td>Intel Core i7 Processor (12th Gen)</td>\n",
       "      <td>16 GB DDR5 RAM</td>\n",
       "      <td>1 TB SSD</td>\n",
       "    </tr>\n",
       "    <tr>\n",
       "      <th>515</th>\n",
       "      <td>acer Aspire 5 Ryzen 7 Octa Core 5700U</td>\n",
       "      <td>5.0</td>\n",
       "      <td>3</td>\n",
       "      <td>0</td>\n",
       "      <td>59990</td>\n",
       "      <td>79999</td>\n",
       "      <td>AMD Ryzen 7 Octa Core Processor</td>\n",
       "      <td>8 GB DDR4 RAM</td>\n",
       "      <td>512 GB SSD</td>\n",
       "    </tr>\n",
       "    <tr>\n",
       "      <th>91</th>\n",
       "      <td>ASUS ZenBook Duo 14 (2021) Touch Panel Core i5...</td>\n",
       "      <td>5.0</td>\n",
       "      <td>3</td>\n",
       "      <td>0</td>\n",
       "      <td>79990</td>\n",
       "      <td>140990</td>\n",
       "      <td>Intel Core i5 Processor (11th Gen)</td>\n",
       "      <td>16 GB LPDDR4X RAM</td>\n",
       "      <td>512 GB SSD</td>\n",
       "    </tr>\n",
       "    <tr>\n",
       "      <th>612</th>\n",
       "      <td>Lenovo Core i3 10th Gen</td>\n",
       "      <td>5.0</td>\n",
       "      <td>1</td>\n",
       "      <td>1</td>\n",
       "      <td>37890</td>\n",
       "      <td>48900</td>\n",
       "      <td>Intel Core i3 Processor (10th Gen)</td>\n",
       "      <td>4 GB DDR4 RAM</td>\n",
       "      <td>256 GB SSD</td>\n",
       "    </tr>\n",
       "  </tbody>\n",
       "</table>\n",
       "</div>"
      ],
      "text/plain": [
       "                                           ProductName  Stars  Ratings  \\\n",
       "575                              DELL Core i5 12th Gen    5.0        4   \n",
       "283          acer Predator Helios 300 Core i7 12th Gen    5.0        4   \n",
       "515              acer Aspire 5 Ryzen 7 Octa Core 5700U    5.0        3   \n",
       "91   ASUS ZenBook Duo 14 (2021) Touch Panel Core i5...    5.0        3   \n",
       "612                            Lenovo Core i3 10th Gen    5.0        1   \n",
       "\n",
       "     Reviews  CurrentPrice     MRP                           Processor  \\\n",
       "575        0         79890   99498  Intel Core i5 Processor (12th Gen)   \n",
       "283        0        156490  179999  Intel Core i7 Processor (12th Gen)   \n",
       "515        0         59990   79999     AMD Ryzen 7 Octa Core Processor   \n",
       "91         0         79990  140990  Intel Core i5 Processor (11th Gen)   \n",
       "612        1         37890   48900  Intel Core i3 Processor (10th Gen)   \n",
       "\n",
       "                   Ram     Storage  \n",
       "575     16 GB DDR5 RAM  512 GB SSD  \n",
       "283     16 GB DDR5 RAM    1 TB SSD  \n",
       "515      8 GB DDR4 RAM  512 GB SSD  \n",
       "91   16 GB LPDDR4X RAM  512 GB SSD  \n",
       "612      4 GB DDR4 RAM  256 GB SSD  "
      ]
     },
     "execution_count": 16,
     "metadata": {},
     "output_type": "execute_result"
    }
   ],
   "source": [
    "df.sort_values(by='Stars', ascending = False).head(5)"
   ]
  },
  {
   "cell_type": "markdown",
   "id": "427eff18",
   "metadata": {},
   "source": [
    "### Most Affordable Laptops"
   ]
  },
  {
   "cell_type": "code",
   "execution_count": 17,
   "id": "ef81ca97",
   "metadata": {
    "scrolled": true
   },
   "outputs": [
    {
     "data": {
      "text/html": [
       "<div>\n",
       "<style scoped>\n",
       "    .dataframe tbody tr th:only-of-type {\n",
       "        vertical-align: middle;\n",
       "    }\n",
       "\n",
       "    .dataframe tbody tr th {\n",
       "        vertical-align: top;\n",
       "    }\n",
       "\n",
       "    .dataframe thead th {\n",
       "        text-align: right;\n",
       "    }\n",
       "</style>\n",
       "<table border=\"1\" class=\"dataframe\">\n",
       "  <thead>\n",
       "    <tr style=\"text-align: right;\">\n",
       "      <th></th>\n",
       "      <th>ProductName</th>\n",
       "      <th>Stars</th>\n",
       "      <th>Ratings</th>\n",
       "      <th>Reviews</th>\n",
       "      <th>CurrentPrice</th>\n",
       "      <th>MRP</th>\n",
       "      <th>Processor</th>\n",
       "      <th>Ram</th>\n",
       "      <th>Storage</th>\n",
       "    </tr>\n",
       "  </thead>\n",
       "  <tbody>\n",
       "    <tr>\n",
       "      <th>328</th>\n",
       "      <td>ASUS Chromebook Flip Touch Celeron Dual Core</td>\n",
       "      <td>4.0</td>\n",
       "      <td>1653</td>\n",
       "      <td>258</td>\n",
       "      <td>15990</td>\n",
       "      <td>31990</td>\n",
       "      <td>Intel Celeron Dual Core Processor</td>\n",
       "      <td>4 GB LPDDR4 RAM</td>\n",
       "      <td>29.46 cm (11.6 inch) Touchscreen Display</td>\n",
       "    </tr>\n",
       "    <tr>\n",
       "      <th>312</th>\n",
       "      <td>ASUS Chromebook Celeron Dual Core</td>\n",
       "      <td>3.7</td>\n",
       "      <td>1455</td>\n",
       "      <td>197</td>\n",
       "      <td>17990</td>\n",
       "      <td>25990</td>\n",
       "      <td>Intel Celeron Dual Core Processor</td>\n",
       "      <td>4 GB LPDDR4 RAM</td>\n",
       "      <td>39.62 cm (15.6 inch) Display</td>\n",
       "    </tr>\n",
       "    <tr>\n",
       "      <th>256</th>\n",
       "      <td>Lenovo IdeaPad 3 CB Celeron Dual Core</td>\n",
       "      <td>0.0</td>\n",
       "      <td>0</td>\n",
       "      <td>0</td>\n",
       "      <td>19729</td>\n",
       "      <td>34890</td>\n",
       "      <td>Intel Celeron Dual Core Processor</td>\n",
       "      <td>4 GB DDR4 RAM</td>\n",
       "      <td>35.56 cm (14 Inch) Display</td>\n",
       "    </tr>\n",
       "    <tr>\n",
       "      <th>178</th>\n",
       "      <td>Lenovo Celeron Dual Core</td>\n",
       "      <td>3.9</td>\n",
       "      <td>121</td>\n",
       "      <td>8</td>\n",
       "      <td>19990</td>\n",
       "      <td>36000</td>\n",
       "      <td>Intel Celeron Dual Core Processor</td>\n",
       "      <td>4 GB LPDDR4 RAM</td>\n",
       "      <td>256 GB HDD|256 GB SSD</td>\n",
       "    </tr>\n",
       "    <tr>\n",
       "      <th>727</th>\n",
       "      <td>ASUS EeeBook 12 Celeron Dual Core</td>\n",
       "      <td>4.0</td>\n",
       "      <td>14</td>\n",
       "      <td>0</td>\n",
       "      <td>19990</td>\n",
       "      <td>27990</td>\n",
       "      <td>Intel Celeron Dual Core Processor</td>\n",
       "      <td>4 GB DDR4 RAM</td>\n",
       "      <td>29.46 cm (11.6 Inch) Display</td>\n",
       "    </tr>\n",
       "    <tr>\n",
       "      <th>922</th>\n",
       "      <td>ASUS Chromebook Celeron Dual Core</td>\n",
       "      <td>3.6</td>\n",
       "      <td>378</td>\n",
       "      <td>50</td>\n",
       "      <td>19990</td>\n",
       "      <td>22990</td>\n",
       "      <td>Intel Celeron Dual Core Processor</td>\n",
       "      <td>4 GB LPDDR4 RAM</td>\n",
       "      <td>29.46 cm (11.6 Inch) Display</td>\n",
       "    </tr>\n",
       "    <tr>\n",
       "      <th>109</th>\n",
       "      <td>Infinix INBook X1 Neo Series Celeron Quad Core</td>\n",
       "      <td>4.2</td>\n",
       "      <td>637</td>\n",
       "      <td>110</td>\n",
       "      <td>20990</td>\n",
       "      <td>29990</td>\n",
       "      <td>Intel Celeron Quad Core Processor</td>\n",
       "      <td>4 GB LPDDR4X RAM</td>\n",
       "      <td>128 GB SSD</td>\n",
       "    </tr>\n",
       "    <tr>\n",
       "      <th>735</th>\n",
       "      <td>ASUS EeeBook 12 Celeron Dual Core</td>\n",
       "      <td>4.2</td>\n",
       "      <td>13</td>\n",
       "      <td>0</td>\n",
       "      <td>21990</td>\n",
       "      <td>27990</td>\n",
       "      <td>Intel Celeron Dual Core Processor</td>\n",
       "      <td>4 GB DDR4 RAM</td>\n",
       "      <td>29.46 cm (11.6 Inch) Display</td>\n",
       "    </tr>\n",
       "    <tr>\n",
       "      <th>790</th>\n",
       "      <td>ASUS Chromebook Flip Touch Celeron Dual Core</td>\n",
       "      <td>4.0</td>\n",
       "      <td>1653</td>\n",
       "      <td>258</td>\n",
       "      <td>22990</td>\n",
       "      <td>29990</td>\n",
       "      <td>Intel Celeron Dual Core Processor</td>\n",
       "      <td>4 GB LPDDR4 RAM</td>\n",
       "      <td>29.46 cm (11.6 inch) Touchscreen Display</td>\n",
       "    </tr>\n",
       "    <tr>\n",
       "      <th>379</th>\n",
       "      <td>acer Extensa Pentium Quad Core</td>\n",
       "      <td>4.6</td>\n",
       "      <td>5</td>\n",
       "      <td>1</td>\n",
       "      <td>23000</td>\n",
       "      <td>34990</td>\n",
       "      <td>Intel Pentium Quad Core Processor</td>\n",
       "      <td>4 GB DDR4 RAM</td>\n",
       "      <td>256 GB SSD</td>\n",
       "    </tr>\n",
       "  </tbody>\n",
       "</table>\n",
       "</div>"
      ],
      "text/plain": [
       "                                        ProductName  Stars  Ratings  Reviews  \\\n",
       "328    ASUS Chromebook Flip Touch Celeron Dual Core    4.0     1653      258   \n",
       "312               ASUS Chromebook Celeron Dual Core    3.7     1455      197   \n",
       "256           Lenovo IdeaPad 3 CB Celeron Dual Core    0.0        0        0   \n",
       "178                        Lenovo Celeron Dual Core    3.9      121        8   \n",
       "727               ASUS EeeBook 12 Celeron Dual Core    4.0       14        0   \n",
       "922               ASUS Chromebook Celeron Dual Core    3.6      378       50   \n",
       "109  Infinix INBook X1 Neo Series Celeron Quad Core    4.2      637      110   \n",
       "735               ASUS EeeBook 12 Celeron Dual Core    4.2       13        0   \n",
       "790    ASUS Chromebook Flip Touch Celeron Dual Core    4.0     1653      258   \n",
       "379                  acer Extensa Pentium Quad Core    4.6        5        1   \n",
       "\n",
       "     CurrentPrice    MRP                          Processor               Ram  \\\n",
       "328         15990  31990  Intel Celeron Dual Core Processor   4 GB LPDDR4 RAM   \n",
       "312         17990  25990  Intel Celeron Dual Core Processor   4 GB LPDDR4 RAM   \n",
       "256         19729  34890  Intel Celeron Dual Core Processor     4 GB DDR4 RAM   \n",
       "178         19990  36000  Intel Celeron Dual Core Processor   4 GB LPDDR4 RAM   \n",
       "727         19990  27990  Intel Celeron Dual Core Processor     4 GB DDR4 RAM   \n",
       "922         19990  22990  Intel Celeron Dual Core Processor   4 GB LPDDR4 RAM   \n",
       "109         20990  29990  Intel Celeron Quad Core Processor  4 GB LPDDR4X RAM   \n",
       "735         21990  27990  Intel Celeron Dual Core Processor     4 GB DDR4 RAM   \n",
       "790         22990  29990  Intel Celeron Dual Core Processor   4 GB LPDDR4 RAM   \n",
       "379         23000  34990  Intel Pentium Quad Core Processor     4 GB DDR4 RAM   \n",
       "\n",
       "                                      Storage  \n",
       "328  29.46 cm (11.6 inch) Touchscreen Display  \n",
       "312              39.62 cm (15.6 inch) Display  \n",
       "256                35.56 cm (14 Inch) Display  \n",
       "178                     256 GB HDD|256 GB SSD  \n",
       "727              29.46 cm (11.6 Inch) Display  \n",
       "922              29.46 cm (11.6 Inch) Display  \n",
       "109                                128 GB SSD  \n",
       "735              29.46 cm (11.6 Inch) Display  \n",
       "790  29.46 cm (11.6 inch) Touchscreen Display  \n",
       "379                                256 GB SSD  "
      ]
     },
     "execution_count": 17,
     "metadata": {},
     "output_type": "execute_result"
    }
   ],
   "source": [
    "Lowest_price = df.sort_values(by='CurrentPrice', ascending = True).head(10)\n",
    "Lowest_price"
   ]
  },
  {
   "cell_type": "code",
   "execution_count": 18,
   "id": "ff8126b8",
   "metadata": {},
   "outputs": [
    {
     "data": {
      "image/png": "[encoded data removed]",
      "text/plain": [
       "<Figure size 1000x700 with 1 Axes>"
      ]
     },
     "metadata": {},
     "output_type": "display_data"
    }
   ],
   "source": [
    "plt.figure(figsize=(10,7))\n",
    "plt.bar(x=Lowest_price['ProductName'], height = Lowest_price['CurrentPrice'])\n",
    "plt.title('Lowest Price Laptops', fontsize=30)\n",
    "plt.xlabel('Laptops Name', fontsize=15)\n",
    "plt.ylabel('Current Price', fontsize=15)\n",
    "plt.xticks(rotation = 270)\n",
    "\n",
    "plt.show()"
   ]
  }
 ],
 "metadata": {
  "kernelspec": {
   "display_name": "Python 3 (ipykernel)",
   "language": "python",
   "name": "python3"
  },
  "language_info": {
   "codemirror_mode": {
    "name": "ipython",
    "version": 3
   },
   "file_extension": ".py",
   "mimetype": "text/x-python",
   "name": "python",
   "nbconvert_exporter": "python",
   "pygments_lexer": "ipython3",
   "version": "3.9.13"
  }
 },
 "nbformat": 4,
 "nbformat_minor": 5
}
